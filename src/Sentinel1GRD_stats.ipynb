{
 "cells": [
  {
   "cell_type": "markdown",
   "id": "5c87ddd5-5738-48f7-8d17-b87080379c22",
   "metadata": {},
   "source": [
    "# Calculating statistics on Sentinel 1 GRD data\n",
    "\n",
    "The aim of this mini project is to take a monthly aggregate of Sentinel 1 data for a location and compute the following:\n",
    "\n",
    "- Q10\n",
    "- Q50\n",
    "- Q90\n",
    "- STDDEV\n",
    "- Range of values\n",
    "\n",
    "The purpose of this script is to use it as demonstrator for the OGC Application package which can be run on EOEPCA\n",
    "\n",
    "## Current status\n",
    "Currently the script extracts 1 image from SentinelHub and computes the statistics. In the future the monthly aggregate needs to be added\n"
   ]
  },
  {
   "cell_type": "code",
   "execution_count": null,
   "id": "0d63561e-751b-41d1-a3e7-d472cb330e29",
   "metadata": {},
   "outputs": [],
   "source": [
    "from sentinelhub import SHConfig, SentinelHubCatalog, SentinelHubDownloadClient, SentinelHubRequest, BBox, CRS, DataCollection, MimeType\n",
    "from sentinelhub import CRS, BBox, DataCollection, SHConfig\n",
    "\n",
    "import requests\n",
    "\n",
    "import matplotlib.pyplot as plt\n",
    "%matplotlib inline\n",
    "\n",
    "import pandas as pd\n",
    "import numpy as np\n",
    "import rasterio as rio\n",
    "from rasterio.plot import show\n",
    "from rasterio.mask import mask"
   ]
  },
  {
   "cell_type": "code",
   "execution_count": null,
   "id": "22998926-ffff-45bd-adf4-093c1381fc9b",
   "metadata": {
    "tags": []
   },
   "outputs": [],
   "source": [
    "# Client secrets for SentinelHub\n",
    "# Ideally should be safely stored in env file but where is the fun in that\n",
    "# FIX BEFORE PUBLISHING TO GITHUB\n",
    "client_id = '6ce93625-2a00-4f57-b761-3012307d7cb3'\n",
    "client_secret = '96dd90d8-6547-4187-9'\n",
    "instance_id = '55b1d947-7b59-4bcd-a42e-fdbf8b9691e6'\n",
    "\n",
    "# Initiate the configuration file of SentinelHub and add all of the variables\n",
    "config = SHConfig()\n",
    "config.instance_id = instance_id\n",
    "config.sh_client_id = client_id\n",
    "config.sh_client_secret = client_secret\n",
    "\n"
   ]
  },
  {
   "cell_type": "code",
   "execution_count": null,
   "id": "30f631ae-f401-48f1-abd0-eafd4aa63970",
   "metadata": {},
   "outputs": [],
   "source": [
    "# Initialize the catalog variable\n",
    "catalog = SentinelHubCatalog(config=config)"
   ]
  },
  {
   "cell_type": "code",
   "execution_count": null,
   "id": "86f407a6-44fb-4f3a-a0c0-fe29f5d4a5c9",
   "metadata": {},
   "outputs": [],
   "source": [
    "# Print some information about the Catalog (version, endpoints etc.)\n",
    "catalog.get_info()"
   ]
  },
  {
   "cell_type": "code",
   "execution_count": null,
   "id": "0f35a368-05f3-4877-967a-feab40bfcbbe",
   "metadata": {},
   "outputs": [],
   "source": [
    "# Get all of the collections from the Catalog\n",
    "collections = catalog.get_collections()"
   ]
  },
  {
   "cell_type": "code",
   "execution_count": null,
   "id": "5577ca42-1268-43cb-98bd-02944ed913b3",
   "metadata": {},
   "outputs": [],
   "source": [
    "# Sanity check for now, remove for production\n",
    "print(collections)"
   ]
  },
  {
   "cell_type": "code",
   "execution_count": null,
   "id": "6d826915-89b1-44dc-a073-82cc46a23d5b",
   "metadata": {},
   "outputs": [],
   "source": [
    "# Print information about the Sentinel 1 GRD dataset\n",
    "DataCollection.SENTINEL1"
   ]
  },
  {
   "cell_type": "code",
   "execution_count": null,
   "id": "e361aa9d-b1f7-46b3-9b6a-0f739c297ee9",
   "metadata": {},
   "outputs": [],
   "source": [
    "# Define a bounding box and time interval\n",
    "# Search the catalog for the data\n",
    "# Show the results\n",
    "BBOX = BBox((-87.72171, 17.11848, -87.342682, 17.481674), crs=CRS.WGS84)\n",
    "time_interval = \"2019-01-01\", \"2019-02-01\"\n",
    "\n",
    "search_iterator = catalog.search(\n",
    "    DataCollection.SENTINEL1,\n",
    "    bbox=BBOX,\n",
    "    time=time_interval,\n",
    "    #filter=\"\",\n",
    "    fields={\"include\": [\"id\", \"properties.datetime\"], \"exclude\": []},\n",
    ")\n",
    "\n",
    "results = list(search_iterator)\n",
    "print(\"Total number of results:\", len(results))\n",
    "\n",
    "results"
   ]
  },
  {
   "cell_type": "code",
   "execution_count": null,
   "id": "78306b93-247a-46c7-84d3-7b3ad0ae94e9",
   "metadata": {},
   "outputs": [],
   "source": [
    "evalscript = '''\n",
    "//VERSION=3\n",
    "\n",
    "function setup() {\n",
    "  return {\n",
    "    input: [\n",
    "      {\n",
    "        bands: [\"VV\",\"VH\"],                  \n",
    "      }\n",
    "    ],\n",
    "    output: [\n",
    "      {\n",
    "        id: \"default\",\n",
    "        bands: 1,\n",
    "        sampleType: \"AUTO\",        \n",
    "      },    \n",
    "    ],\n",
    "    mosaicking: \"SIMPLE\",\n",
    "  };\n",
    "}\n",
    "\n",
    "\n",
    "function evaluatePixel(sample) {\n",
    "        return [sample.VV];\n",
    "}\n",
    "  \n",
    "'''\n",
    "requestdata = SentinelHubRequest(\n",
    "    data_folder='testing',\n",
    "    evalscript=evalscript,\n",
    "    input_data=[\n",
    "        SentinelHubRequest.input_data(\n",
    "        DataCollection.SENTINEL1,\n",
    "        time_interval=('2019-01-01','2019-02-01')\n",
    "        )\n",
    "    ],\n",
    "    responses=[SentinelHubRequest.output_response(\"default\", MimeType.TIFF)],\n",
    "    bbox=BBOX,\n",
    "    size=[512, 343.697],\n",
    "    config=config,\n",
    ")"
   ]
  },
  {
   "cell_type": "code",
   "execution_count": null,
   "id": "7fa7d503-2e84-41b4-9c3b-49d8ebfbb577",
   "metadata": {},
   "outputs": [],
   "source": [
    "%%time\n",
    "sentinel_data = requestdata.get_data(save_data=True)"
   ]
  },
  {
   "cell_type": "code",
   "execution_count": null,
   "id": "896df0cc-496e-424a-a40a-f98c23df35bd",
   "metadata": {},
   "outputs": [],
   "source": [
    "print(f\"Returned data is of type = {type(sentinel_data)} and length {len(sentinel_data)}.\")\n",
    "print(f\"Single element in the list is of type {type(sentinel_data[-1])} and has shape {sentinel_data[-1].shape}\")"
   ]
  },
  {
   "cell_type": "code",
   "execution_count": null,
   "id": "663a4680-8802-4e0d-bccd-ea30fd09b688",
   "metadata": {},
   "outputs": [],
   "source": [
    "import matplotlib.pyplot as plt\n",
    "%matplotlib inline\n",
    "\n",
    "image = sentinel_data[0]\n",
    "print(f\"Image type: {image.dtype}\")\n",
    "# Show the image to see if its working\n",
    "plt.imshow(image)"
   ]
  },
  {
   "cell_type": "code",
   "execution_count": 72,
   "id": "14a34616-a397-48cf-b65a-09935ae0c328",
   "metadata": {},
   "outputs": [],
   "source": [
    "# Calculate statistics \n",
    "# Yielding percentiles (Q10, Q50, Q90), STDDEV, range of values\n",
    "stddev = np.nanstd(sentinel_data)\n",
    "mean = np.nanmean(sentinel_data)\n",
    "quant10 = np.quantile(sentinel_data, 0.1)\n",
    "quant50 = np.quantile(sentinel_data, 0.5)\n",
    "quant90 = np.quantile(sentinel_data, 0.9)\n",
    "r_o_values = np.ptp(sentinel_data)\n",
    "\n"
   ]
  },
  {
   "cell_type": "code",
   "execution_count": null,
   "id": "89d84678-b077-43d1-a4b9-710389785114",
   "metadata": {},
   "outputs": [],
   "source": []
  },
  {
   "cell_type": "code",
   "execution_count": null,
   "id": "48913b57-2b6a-4ff6-82df-67b92ef582ec",
   "metadata": {},
   "outputs": [],
   "source": []
  }
 ],
 "metadata": {
  "kernelspec": {
   "display_name": "users-edc-2023.03-02",
   "language": "python",
   "name": "conda-env-users-edc-2023.03-02-py"
  },
  "language_info": {
   "codemirror_mode": {
    "name": "ipython",
    "version": 3
   },
   "file_extension": ".py",
   "mimetype": "text/x-python",
   "name": "python",
   "nbconvert_exporter": "python",
   "pygments_lexer": "ipython3",
   "version": "3.9.16"
  }
 },
 "nbformat": 4,
 "nbformat_minor": 5
}
